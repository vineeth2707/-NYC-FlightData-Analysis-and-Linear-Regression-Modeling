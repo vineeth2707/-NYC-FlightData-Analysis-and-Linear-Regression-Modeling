{
  "nbformat": 4,
  "nbformat_minor": 0,
  "metadata": {
    "colab": {
      "provenance": [],
      "authorship_tag": "ABX9TyODSFFSUdLW/eXdC7qU9+vo",
      "include_colab_link": true
    },
    "kernelspec": {
      "name": "python3",
      "display_name": "Python 3"
    },
    "language_info": {
      "name": "python"
    }
  },
  "cells": [
    {
      "cell_type": "markdown",
      "metadata": {
        "id": "view-in-github",
        "colab_type": "text"
      },
      "source": [
        "<a href=\"https://colab.research.google.com/github/vineeth2707/-NYC-FlightData-Analysis-and-Linear-Regression-Modeling/blob/main/NYC_Flights_Data_Analysis_and_Linear_Regression_Modeling.ipynb\" target=\"_parent\"><img src=\"https://colab.research.google.com/assets/colab-badge.svg\" alt=\"Open In Colab\"/></a>"
      ]
    },
    {
      "cell_type": "markdown",
      "source": [
        "##  Data Science\n"
      ],
      "metadata": {
        "id": "D6biM7UZtIf7"
      }
    },
    {
      "cell_type": "markdown",
      "source": [
        "**Q1. Read nycflights.csv file using pandas and name it df. Create a new data frame by selecting dep_time,\n",
        "dep_delay, arr_time, arr_delay, and tailnum, and name it newyork_flight_new—display with the first\n",
        "five entries.**"
      ],
      "metadata": {
        "id": "-zWoDGGCqmtx"
      }
    },
    {
      "cell_type": "code",
      "execution_count": null,
      "metadata": {
        "colab": {
          "base_uri": "https://localhost:8080/"
        },
        "id": "k05oF1aBqbA3",
        "outputId": "4e9c2594-cf4e-43cf-df0a-23f86588cfb2"
      },
      "outputs": [
        {
          "output_type": "stream",
          "name": "stdout",
          "text": [
            "   dep_time  dep_delay  arr_time  arr_delay tailnum\n",
            "0       940         15      1216         -4  N626VA\n",
            "1      1657         -3      2104         10  N3760C\n",
            "2       859         -1      1238         11  N712TW\n",
            "3      1841         -4      2122        -34  N914DL\n",
            "4      1102         -3      1230         -8  N823AY\n"
          ]
        }
      ],
      "source": [
        "import pandas as pd\n",
        "\n",
        "df = pd.read_csv('/content/nycflights.csv')\n",
        "\n",
        "newyork_flight_new = df[['dep_time', 'dep_delay', 'arr_time', 'arr_delay', 'tailnum']]\n",
        "\n",
        "print(newyork_flight_new.head())"
      ]
    },
    {
      "cell_type": "markdown",
      "source": [
        "In above code I have taken provided csv data set file by using pands i have named as df, Then I have created a new dataframe of newyork flight details as dep_time, dep_delay,arr_time,arr_delay,tailnum are represented of first five entires."
      ],
      "metadata": {
        "id": "rxqzEGhUwY0j"
      }
    },
    {
      "cell_type": "markdown",
      "source": [
        "**Q2.Filter newyork_flight_new by selecting rows with a departure time greater than 2000 and naming it\n",
        "dep_time_2000. How many rows were deleted?**"
      ],
      "metadata": {
        "id": "CQXL2rI5rGqo"
      }
    },
    {
      "cell_type": "code",
      "source": [
        "dep_time_2000 = newyork_flight_new[newyork_flight_new['dep_time'] > 2000]\n",
        "\n",
        "rows_deleted = len(newyork_flight_new) - len(dep_time_2000)\n",
        "\n",
        "print(\"Number of rows deleted:\", rows_deleted)\n"
      ],
      "metadata": {
        "colab": {
          "base_uri": "https://localhost:8080/"
        },
        "id": "a7yh6cOWrNjS",
        "outputId": "d45e698e-0527-4e77-d105-b379f6747d3d"
      },
      "execution_count": null,
      "outputs": [
        {
          "output_type": "stream",
          "name": "stdout",
          "text": [
            "Number of rows deleted: 29166\n"
          ]
        }
      ]
    },
    {
      "cell_type": "markdown",
      "source": [
        "Now In this code , I have selected number of rows are selected with depature greater greater than 2000 by cloumn naming it as dep_time_2000 , count the number of rows deleted of newyork_flight_new and printed it."
      ],
      "metadata": {
        "id": "iRnNclylxLUP"
      }
    },
    {
      "cell_type": "markdown",
      "source": [
        "**Q3. Do we have any missing values in dep_delay? If yes, replace the missing values with the median of\n",
        "dep_delay.**"
      ],
      "metadata": {
        "id": "Tdrzgn72rOBg"
      }
    },
    {
      "cell_type": "code",
      "source": [
        "import numpy as np\n",
        "\n",
        "if newyork_flight_new['dep_delay'].isnull().values.any():\n",
        "\n",
        "    median_dep_delay = newyork_flight_new['dep_delay'].median()\n",
        "\n",
        "    newyork_flight_new['dep_delay'].fillna(median_dep_delay, inplace=True)\n",
        "\n",
        "    print(\"Missing values in dep_delay were replaced with the median:\", median_dep_delay)\n",
        "else:\n",
        "    print(\"No missing values in dep_delay.\")"
      ],
      "metadata": {
        "colab": {
          "base_uri": "https://localhost:8080/"
        },
        "id": "LcORXDOlrSUl",
        "outputId": "13c08b3a-c417-4340-9674-b2da5190ddab"
      },
      "execution_count": null,
      "outputs": [
        {
          "output_type": "stream",
          "name": "stdout",
          "text": [
            "No missing values in dep_delay.\n"
          ]
        }
      ]
    },
    {
      "cell_type": "markdown",
      "source": [
        "For missing values in dep_delay of newyork_flight_new I have calculated the median of dep_delay and replaced the missing values with median by that we will know whther the values are missing or not. Here we found that there are No missing values in dep_delay."
      ],
      "metadata": {
        "id": "tZSx8vqTxvAR"
      }
    },
    {
      "cell_type": "markdown",
      "source": [
        "**Q4. Use the query function to filter all the rows with airtime greater than 120 minutes and distance\n",
        "greater than 700 km.**"
      ],
      "metadata": {
        "id": "atqQaEfKrSqZ"
      }
    },
    {
      "cell_type": "code",
      "source": [
        "filtered_rows = df.query('air_time > 120 and distance > 700')\n",
        "\n",
        "print(filtered_rows)"
      ],
      "metadata": {
        "colab": {
          "base_uri": "https://localhost:8080/"
        },
        "id": "5SLklNvZrd4w",
        "outputId": "c325e9b2-cbfd-47ff-e522-b96e05d3c931"
      },
      "execution_count": null,
      "outputs": [
        {
          "output_type": "stream",
          "name": "stdout",
          "text": [
            "       year  month  day  dep_time  dep_delay  arr_time  arr_delay carrier  \\\n",
            "0      2013      6   30       940         15      1216         -4      VX   \n",
            "1      2013      5    7      1657         -3      2104         10      DL   \n",
            "2      2013     12    8       859         -1      1238         11      DL   \n",
            "3      2013      5   14      1841         -4      2122        -34      DL   \n",
            "5      2013      1    1      1817         -3      2008          3      AA   \n",
            "...     ...    ...  ...       ...        ...       ...        ...     ...   \n",
            "32720  2013      4   17      1023         -7      1341        -24      VX   \n",
            "32722  2013      7    9       600          0       822         -8      AA   \n",
            "32726  2013      2    4      1558         -2      1854          4      DL   \n",
            "32731  2013      7    7       812         -3      1043          8      DL   \n",
            "32732  2013      9    3      1057         -1      1319        -19      UA   \n",
            "\n",
            "      tailnum  flight origin dest  air_time  distance  hour  minute  \n",
            "0      N626VA     407    JFK  LAX       313      2475     9      40  \n",
            "1      N3760C     329    JFK  SJU       216      1598    16      57  \n",
            "2      N712TW     422    JFK  LAX       376      2475     8      59  \n",
            "3      N914DL    2391    JFK  TPA       135      1005    18      41  \n",
            "5      N3AXAA     353    LGA  ORD       138       733    18      17  \n",
            "...       ...     ...    ...  ...       ...       ...   ...     ...  \n",
            "32720  N842VA     187    EWR  SFO       351      2565    10      23  \n",
            "32722  N3ERAA     707    LGA  DFW       178      1389     6       0  \n",
            "32726  N3737C    1331    JFK  DEN       238      1626    15      58  \n",
            "32731  N6713Y    1429    JFK  LAS       286      2248     8      12  \n",
            "32732  N77871    1545    EWR  IAH       180      1400    10      57  \n",
            "\n",
            "[17840 rows x 16 columns]\n"
          ]
        }
      ]
    },
    {
      "cell_type": "markdown",
      "source": [
        "To print all the rows I have used query function to filter dataframe and display the filtered rows. where df represents the original data fram contains flight data, we filtereted the data by using expression \"air_time >120 and distance >700\" where the air time is greater than 120 and distance is greater than 700."
      ],
      "metadata": {
        "id": "RDQL_as2yM7X"
      }
    },
    {
      "cell_type": "markdown",
      "source": [
        "**Q5: Create a new data frame by dep_time, dep_delay, arr_time, arr_delay, tail num, and destination\n",
        "using filter() and name it df1.**"
      ],
      "metadata": {
        "id": "6WhiqWFfr2ft"
      }
    },
    {
      "cell_type": "code",
      "source": [
        "df1 = df.filter(['dep_time', 'dep_delay', 'arr_time', 'arr_delay', 'tailnum', 'destination'])\n",
        "\n",
        "print(df1)\n"
      ],
      "metadata": {
        "colab": {
          "base_uri": "https://localhost:8080/"
        },
        "id": "Fu2ZuLwir7fE",
        "outputId": "e5bc7012-281e-4508-963e-a613f1ad2e93"
      },
      "execution_count": null,
      "outputs": [
        {
          "output_type": "stream",
          "name": "stdout",
          "text": [
            "       dep_time  dep_delay  arr_time  arr_delay tailnum\n",
            "0           940         15      1216         -4  N626VA\n",
            "1          1657         -3      2104         10  N3760C\n",
            "2           859         -1      1238         11  N712TW\n",
            "3          1841         -4      2122        -34  N914DL\n",
            "4          1102         -3      1230         -8  N823AY\n",
            "...         ...        ...       ...        ...     ...\n",
            "32730       752         -8       921        -28  N8505Q\n",
            "32731       812         -3      1043          8  N6713Y\n",
            "32732      1057         -1      1319        -19  N77871\n",
            "32733       844         56      1045         60  N258JB\n",
            "32734      1813         -3      1942        -23  N36272\n",
            "\n",
            "[32735 rows x 5 columns]\n"
          ]
        }
      ]
    },
    {
      "cell_type": "markdown",
      "source": [
        "To create a new data frame with selected columns like dep_time, arr_time, arr_delay, tailnum, destination, we use ab0ve code. Here df contains original data and filter() funstion will used for sepcific columns by df. df1 is used to represent those cloumns in it."
      ],
      "metadata": {
        "id": "Lj4iKww3zKtP"
      }
    },
    {
      "cell_type": "markdown",
      "source": [
        "**Q6: Add a new column \"total_delay\" to df1 using assign(). Total_delay can be calculated by adding\n",
        "dep_delay and arr_delay**"
      ],
      "metadata": {
        "id": "p6_2RpZMr7xy"
      }
    },
    {
      "cell_type": "code",
      "source": [
        "df1 = df1.assign(total_delay=df1['dep_delay'] + df1['arr_delay'])\n",
        "\n",
        "print(df1)\n"
      ],
      "metadata": {
        "colab": {
          "base_uri": "https://localhost:8080/"
        },
        "id": "jlRumnXjsAOV",
        "outputId": "81a4274b-0b58-480c-80e0-aa184e0943fb"
      },
      "execution_count": null,
      "outputs": [
        {
          "output_type": "stream",
          "name": "stdout",
          "text": [
            "       dep_time  dep_delay  arr_time  arr_delay tailnum  total_delay\n",
            "0           940         15      1216         -4  N626VA           11\n",
            "1          1657         -3      2104         10  N3760C            7\n",
            "2           859         -1      1238         11  N712TW           10\n",
            "3          1841         -4      2122        -34  N914DL          -38\n",
            "4          1102         -3      1230         -8  N823AY          -11\n",
            "...         ...        ...       ...        ...     ...          ...\n",
            "32730       752         -8       921        -28  N8505Q          -36\n",
            "32731       812         -3      1043          8  N6713Y            5\n",
            "32732      1057         -1      1319        -19  N77871          -20\n",
            "32733       844         56      1045         60  N258JB          116\n",
            "32734      1813         -3      1942        -23  N36272          -26\n",
            "\n",
            "[32735 rows x 6 columns]\n"
          ]
        }
      ]
    },
    {
      "cell_type": "markdown",
      "source": [
        "Now to add new cloumn total delay to df1 I have used '+' operator to assign the function to create a new column of dep_delay and arr_dela in df1. By running this code we get new cloumn of total_delay in df1 frame."
      ],
      "metadata": {
        "id": "d2lHPDdoz-Mc"
      }
    },
    {
      "cell_type": "markdown",
      "source": [
        "**Q7: Group df according to \"months\" and find the average air time and maximum distance traveled. Use\n",
        "groupby() and agg() functions**"
      ],
      "metadata": {
        "id": "4tJcnlSxsAlw"
      }
    },
    {
      "cell_type": "code",
      "source": [
        "grouped_df = df.groupby('month').agg({'air_time': 'mean', 'distance': 'max'})\n",
        "\n",
        "print(grouped_df)"
      ],
      "metadata": {
        "colab": {
          "base_uri": "https://localhost:8080/"
        },
        "id": "1KYL0yAKsEvg",
        "outputId": "a80f47c4-65f3-46d8-a53d-4a70fcc1e6e6"
      },
      "execution_count": null,
      "outputs": [
        {
          "output_type": "stream",
          "name": "stdout",
          "text": [
            "         air_time  distance\n",
            "month                      \n",
            "1      152.026054      4983\n",
            "2      149.713911      4983\n",
            "3      151.598466      4983\n",
            "4      152.737864      4983\n",
            "5      147.203474      4983\n",
            "6      147.172035      4983\n",
            "7      147.390956      4983\n",
            "8      146.139583      4983\n",
            "9      145.423349      4983\n",
            "10     145.775312      4983\n",
            "11     158.226857      4983\n",
            "12     162.330265      4983\n"
          ]
        }
      ]
    },
    {
      "cell_type": "markdown",
      "source": [
        "To find average of  groupby and agg function of grouped_df according to months, df declars that the original data store and groupby() function will group data frame by month function.Then we use agg() function to calculate the mean and max distance values and display it in grouped data frame."
      ],
      "metadata": {
        "id": "a1QTjipI0l0k"
      }
    },
    {
      "cell_type": "markdown",
      "source": [],
      "metadata": {
        "id": "n1P9jtt7Bthe"
      }
    },
    {
      "cell_type": "markdown",
      "source": [
        "**Q8: Import student-por using pandas. How many features do we have in this dataset?**"
      ],
      "metadata": {
        "id": "yj4VxeHGsFH9"
      }
    },
    {
      "cell_type": "code",
      "source": [
        "import pandas as pd\n",
        "\n",
        "data = pd.read_csv(\"/content/student-por.csv\", sep=\";\")\n",
        "\n",
        "num_features = len(data.columns)\n",
        "print(\"Number of features:\", num_features)\n"
      ],
      "metadata": {
        "colab": {
          "base_uri": "https://localhost:8080/"
        },
        "id": "35gKRWagsJdW",
        "outputId": "99e24bdc-71a3-43a7-ee52-2c2eff3b98e5"
      },
      "execution_count": null,
      "outputs": [
        {
          "output_type": "stream",
          "name": "stdout",
          "text": [
            "Number of features: 1\n"
          ]
        }
      ]
    },
    {
      "cell_type": "markdown",
      "source": [
        "Here I have imported student data which is provided and check number of features in data cloumns there are 1."
      ],
      "metadata": {
        "id": "YqtsclCd28xv"
      }
    },
    {
      "cell_type": "code",
      "source": [
        "import pandas as pd\n",
        "\n",
        "student_data = pd.read_csv(\"/content/student-por.csv\")\n",
        "\n",
        "student_data.head()\n"
      ],
      "metadata": {
        "colab": {
          "base_uri": "https://localhost:8080/",
          "height": 270
        },
        "id": "DP-4Ytpa1oTA",
        "outputId": "25cc04ea-1976-4046-b697-ffe2d6993a42"
      },
      "execution_count": null,
      "outputs": [
        {
          "output_type": "execute_result",
          "data": {
            "text/plain": [
              "   age  Medu  Fedu  traveltime  studytime  failures  famrel  freetime  goout  \\\n",
              "0   18     4     4           2          2         0       4         3      4   \n",
              "1   17     1     1           1          2         0       5         3      3   \n",
              "2   15     1     1           1          2         0       4         3      2   \n",
              "3   15     4     2           1          3         0       3         2      2   \n",
              "4   16     3     3           1          2         0       4         3      2   \n",
              "\n",
              "   Dalc  Walc  health  absences  G1  G2  G3  \n",
              "0     1     1       3         4   0  11  11  \n",
              "1     1     1       3         2   9  11  11  \n",
              "2     2     3       3         6  12  13  12  \n",
              "3     1     1       5         0  14  14  14  \n",
              "4     1     2       5         0  11  13  13  "
            ],
            "text/html": [
              "\n",
              "\n",
              "  <div id=\"df-5d7503b5-71d9-41ea-9bea-0a3750d2d850\">\n",
              "    <div class=\"colab-df-container\">\n",
              "      <div>\n",
              "<style scoped>\n",
              "    .dataframe tbody tr th:only-of-type {\n",
              "        vertical-align: middle;\n",
              "    }\n",
              "\n",
              "    .dataframe tbody tr th {\n",
              "        vertical-align: top;\n",
              "    }\n",
              "\n",
              "    .dataframe thead th {\n",
              "        text-align: right;\n",
              "    }\n",
              "</style>\n",
              "<table border=\"1\" class=\"dataframe\">\n",
              "  <thead>\n",
              "    <tr style=\"text-align: right;\">\n",
              "      <th></th>\n",
              "      <th>age</th>\n",
              "      <th>Medu</th>\n",
              "      <th>Fedu</th>\n",
              "      <th>traveltime</th>\n",
              "      <th>studytime</th>\n",
              "      <th>failures</th>\n",
              "      <th>famrel</th>\n",
              "      <th>freetime</th>\n",
              "      <th>goout</th>\n",
              "      <th>Dalc</th>\n",
              "      <th>Walc</th>\n",
              "      <th>health</th>\n",
              "      <th>absences</th>\n",
              "      <th>G1</th>\n",
              "      <th>G2</th>\n",
              "      <th>G3</th>\n",
              "    </tr>\n",
              "  </thead>\n",
              "  <tbody>\n",
              "    <tr>\n",
              "      <th>0</th>\n",
              "      <td>18</td>\n",
              "      <td>4</td>\n",
              "      <td>4</td>\n",
              "      <td>2</td>\n",
              "      <td>2</td>\n",
              "      <td>0</td>\n",
              "      <td>4</td>\n",
              "      <td>3</td>\n",
              "      <td>4</td>\n",
              "      <td>1</td>\n",
              "      <td>1</td>\n",
              "      <td>3</td>\n",
              "      <td>4</td>\n",
              "      <td>0</td>\n",
              "      <td>11</td>\n",
              "      <td>11</td>\n",
              "    </tr>\n",
              "    <tr>\n",
              "      <th>1</th>\n",
              "      <td>17</td>\n",
              "      <td>1</td>\n",
              "      <td>1</td>\n",
              "      <td>1</td>\n",
              "      <td>2</td>\n",
              "      <td>0</td>\n",
              "      <td>5</td>\n",
              "      <td>3</td>\n",
              "      <td>3</td>\n",
              "      <td>1</td>\n",
              "      <td>1</td>\n",
              "      <td>3</td>\n",
              "      <td>2</td>\n",
              "      <td>9</td>\n",
              "      <td>11</td>\n",
              "      <td>11</td>\n",
              "    </tr>\n",
              "    <tr>\n",
              "      <th>2</th>\n",
              "      <td>15</td>\n",
              "      <td>1</td>\n",
              "      <td>1</td>\n",
              "      <td>1</td>\n",
              "      <td>2</td>\n",
              "      <td>0</td>\n",
              "      <td>4</td>\n",
              "      <td>3</td>\n",
              "      <td>2</td>\n",
              "      <td>2</td>\n",
              "      <td>3</td>\n",
              "      <td>3</td>\n",
              "      <td>6</td>\n",
              "      <td>12</td>\n",
              "      <td>13</td>\n",
              "      <td>12</td>\n",
              "    </tr>\n",
              "    <tr>\n",
              "      <th>3</th>\n",
              "      <td>15</td>\n",
              "      <td>4</td>\n",
              "      <td>2</td>\n",
              "      <td>1</td>\n",
              "      <td>3</td>\n",
              "      <td>0</td>\n",
              "      <td>3</td>\n",
              "      <td>2</td>\n",
              "      <td>2</td>\n",
              "      <td>1</td>\n",
              "      <td>1</td>\n",
              "      <td>5</td>\n",
              "      <td>0</td>\n",
              "      <td>14</td>\n",
              "      <td>14</td>\n",
              "      <td>14</td>\n",
              "    </tr>\n",
              "    <tr>\n",
              "      <th>4</th>\n",
              "      <td>16</td>\n",
              "      <td>3</td>\n",
              "      <td>3</td>\n",
              "      <td>1</td>\n",
              "      <td>2</td>\n",
              "      <td>0</td>\n",
              "      <td>4</td>\n",
              "      <td>3</td>\n",
              "      <td>2</td>\n",
              "      <td>1</td>\n",
              "      <td>2</td>\n",
              "      <td>5</td>\n",
              "      <td>0</td>\n",
              "      <td>11</td>\n",
              "      <td>13</td>\n",
              "      <td>13</td>\n",
              "    </tr>\n",
              "  </tbody>\n",
              "</table>\n",
              "</div>\n",
              "      <button class=\"colab-df-convert\" onclick=\"convertToInteractive('df-5d7503b5-71d9-41ea-9bea-0a3750d2d850')\"\n",
              "              title=\"Convert this dataframe to an interactive table.\"\n",
              "              style=\"display:none;\">\n",
              "\n",
              "  <svg xmlns=\"http://www.w3.org/2000/svg\" height=\"24px\"viewBox=\"0 0 24 24\"\n",
              "       width=\"24px\">\n",
              "    <path d=\"M0 0h24v24H0V0z\" fill=\"none\"/>\n",
              "    <path d=\"M18.56 5.44l.94 2.06.94-2.06 2.06-.94-2.06-.94-.94-2.06-.94 2.06-2.06.94zm-11 1L8.5 8.5l.94-2.06 2.06-.94-2.06-.94L8.5 2.5l-.94 2.06-2.06.94zm10 10l.94 2.06.94-2.06 2.06-.94-2.06-.94-.94-2.06-.94 2.06-2.06.94z\"/><path d=\"M17.41 7.96l-1.37-1.37c-.4-.4-.92-.59-1.43-.59-.52 0-1.04.2-1.43.59L10.3 9.45l-7.72 7.72c-.78.78-.78 2.05 0 2.83L4 21.41c.39.39.9.59 1.41.59.51 0 1.02-.2 1.41-.59l7.78-7.78 2.81-2.81c.8-.78.8-2.07 0-2.86zM5.41 20L4 18.59l7.72-7.72 1.47 1.35L5.41 20z\"/>\n",
              "  </svg>\n",
              "      </button>\n",
              "\n",
              "\n",
              "\n",
              "    <div id=\"df-5d887b9e-5b53-4802-8838-51cd6fc55f1e\">\n",
              "      <button class=\"colab-df-quickchart\" onclick=\"quickchart('df-5d887b9e-5b53-4802-8838-51cd6fc55f1e')\"\n",
              "              title=\"Suggest charts.\"\n",
              "              style=\"display:none;\">\n",
              "\n",
              "<svg xmlns=\"http://www.w3.org/2000/svg\" height=\"24px\"viewBox=\"0 0 24 24\"\n",
              "     width=\"24px\">\n",
              "    <g>\n",
              "        <path d=\"M19 3H5c-1.1 0-2 .9-2 2v14c0 1.1.9 2 2 2h14c1.1 0 2-.9 2-2V5c0-1.1-.9-2-2-2zM9 17H7v-7h2v7zm4 0h-2V7h2v10zm4 0h-2v-4h2v4z\"/>\n",
              "    </g>\n",
              "</svg>\n",
              "      </button>\n",
              "    </div>\n",
              "\n",
              "<style>\n",
              "  .colab-df-quickchart {\n",
              "    background-color: #E8F0FE;\n",
              "    border: none;\n",
              "    border-radius: 50%;\n",
              "    cursor: pointer;\n",
              "    display: none;\n",
              "    fill: #1967D2;\n",
              "    height: 32px;\n",
              "    padding: 0 0 0 0;\n",
              "    width: 32px;\n",
              "  }\n",
              "\n",
              "  .colab-df-quickchart:hover {\n",
              "    background-color: #E2EBFA;\n",
              "    box-shadow: 0px 1px 2px rgba(60, 64, 67, 0.3), 0px 1px 3px 1px rgba(60, 64, 67, 0.15);\n",
              "    fill: #174EA6;\n",
              "  }\n",
              "\n",
              "  [theme=dark] .colab-df-quickchart {\n",
              "    background-color: #3B4455;\n",
              "    fill: #D2E3FC;\n",
              "  }\n",
              "\n",
              "  [theme=dark] .colab-df-quickchart:hover {\n",
              "    background-color: #434B5C;\n",
              "    box-shadow: 0px 1px 3px 1px rgba(0, 0, 0, 0.15);\n",
              "    filter: drop-shadow(0px 1px 2px rgba(0, 0, 0, 0.3));\n",
              "    fill: #FFFFFF;\n",
              "  }\n",
              "</style>\n",
              "\n",
              "    <script>\n",
              "      async function quickchart(key) {\n",
              "        const containerElement = document.querySelector('#' + key);\n",
              "        const charts = await google.colab.kernel.invokeFunction(\n",
              "            'suggestCharts', [key], {});\n",
              "      }\n",
              "    </script>\n",
              "\n",
              "      <script>\n",
              "\n",
              "function displayQuickchartButton(domScope) {\n",
              "  let quickchartButtonEl =\n",
              "    domScope.querySelector('#df-5d887b9e-5b53-4802-8838-51cd6fc55f1e button.colab-df-quickchart');\n",
              "  quickchartButtonEl.style.display =\n",
              "    google.colab.kernel.accessAllowed ? 'block' : 'none';\n",
              "}\n",
              "\n",
              "        displayQuickchartButton(document);\n",
              "      </script>\n",
              "      <style>\n",
              "    .colab-df-container {\n",
              "      display:flex;\n",
              "      flex-wrap:wrap;\n",
              "      gap: 12px;\n",
              "    }\n",
              "\n",
              "    .colab-df-convert {\n",
              "      background-color: #E8F0FE;\n",
              "      border: none;\n",
              "      border-radius: 50%;\n",
              "      cursor: pointer;\n",
              "      display: none;\n",
              "      fill: #1967D2;\n",
              "      height: 32px;\n",
              "      padding: 0 0 0 0;\n",
              "      width: 32px;\n",
              "    }\n",
              "\n",
              "    .colab-df-convert:hover {\n",
              "      background-color: #E2EBFA;\n",
              "      box-shadow: 0px 1px 2px rgba(60, 64, 67, 0.3), 0px 1px 3px 1px rgba(60, 64, 67, 0.15);\n",
              "      fill: #174EA6;\n",
              "    }\n",
              "\n",
              "    [theme=dark] .colab-df-convert {\n",
              "      background-color: #3B4455;\n",
              "      fill: #D2E3FC;\n",
              "    }\n",
              "\n",
              "    [theme=dark] .colab-df-convert:hover {\n",
              "      background-color: #434B5C;\n",
              "      box-shadow: 0px 1px 3px 1px rgba(0, 0, 0, 0.15);\n",
              "      filter: drop-shadow(0px 1px 2px rgba(0, 0, 0, 0.3));\n",
              "      fill: #FFFFFF;\n",
              "    }\n",
              "  </style>\n",
              "\n",
              "      <script>\n",
              "        const buttonEl =\n",
              "          document.querySelector('#df-5d7503b5-71d9-41ea-9bea-0a3750d2d850 button.colab-df-convert');\n",
              "        buttonEl.style.display =\n",
              "          google.colab.kernel.accessAllowed ? 'block' : 'none';\n",
              "\n",
              "        async function convertToInteractive(key) {\n",
              "          const element = document.querySelector('#df-5d7503b5-71d9-41ea-9bea-0a3750d2d850');\n",
              "          const dataTable =\n",
              "            await google.colab.kernel.invokeFunction('convertToInteractive',\n",
              "                                                     [key], {});\n",
              "          if (!dataTable) return;\n",
              "\n",
              "          const docLinkHtml = 'Like what you see? Visit the ' +\n",
              "            '<a target=\"_blank\" href=https://colab.research.google.com/notebooks/data_table.ipynb>data table notebook</a>'\n",
              "            + ' to learn more about interactive tables.';\n",
              "          element.innerHTML = '';\n",
              "          dataTable['output_type'] = 'display_data';\n",
              "          await google.colab.output.renderOutput(dataTable, element);\n",
              "          const docLink = document.createElement('div');\n",
              "          docLink.innerHTML = docLinkHtml;\n",
              "          element.appendChild(docLink);\n",
              "        }\n",
              "      </script>\n",
              "    </div>\n",
              "  </div>\n"
            ]
          },
          "metadata": {},
          "execution_count": 3
        }
      ]
    },
    {
      "cell_type": "markdown",
      "source": [
        "As the provided student data set has features 1 so I have read the csv file to display first five valuues in the row format the above table is the data from student-por.csv file"
      ],
      "metadata": {
        "id": "K171Ox1A3MWY"
      }
    },
    {
      "cell_type": "code",
      "source": [
        "\n",
        "import numpy as np\n",
        "import matplotlib.pyplot as plt  # To visualize\n",
        "import pandas as pd  # To read data\n",
        "from sklearn.linear_model import LinearRegression\n",
        "\n",
        "data = pd.read_csv('/content/student-por.csv')  # load data set\n",
        "X = data.iloc[:, 0].values.reshape(-1, 1)  # values converts it into a numpy array\n",
        "Y = data.iloc[:, 1].values.reshape(-1, 1)  # -1 means that calculate the dimension of rows, but have 1 column\n",
        "linear_regressor = LinearRegression()  # create object for the class\n",
        "linear_regressor.fit(X, Y)  # perform linear regression\n",
        "Y_pred = linear_regressor.predict(X)  # make predictions\n",
        "plt.scatter(X, Y)\n",
        "plt.plot(X, Y_pred, color='red')\n",
        "plt.show()\n",
        "\n"
      ],
      "metadata": {
        "colab": {
          "base_uri": "https://localhost:8080/",
          "height": 430
        },
        "id": "TcYyw5E41vR2",
        "outputId": "7f5d5f1a-0029-4983-d618-ad6639d68ea5"
      },
      "execution_count": null,
      "outputs": [
        {
          "output_type": "display_data",
          "data": {
            "text/plain": [
              "<Figure size 640x480 with 1 Axes>"
            ],
            "image/png": "[encoded data removed]"
          },
          "metadata": {}
        }
      ]
    },
    {
      "cell_type": "markdown",
      "source": [
        "I have performed linear regression to show the data in graphical representation as by reading the data in pandas as pd then load the student-por data set next convert the values into numpy array and calculate the dimensions of rows. create a object of class and perform linear regression fit(x,Y) and make predictions. These predeictions are shown in graph as x and y_pred in red line in graph."
      ],
      "metadata": {
        "id": "zG2rFmsI3j8P"
      }
    },
    {
      "cell_type": "markdown",
      "source": [
        "**Q9: Fit a simple linear regression model between:**\n",
        "\n",
        "1.**Study time and G1**\n",
        "\n",
        "2.**Study time and G2**\n",
        "\n",
        "**Which pair gave us the best performance?**\n",
        "\n"
      ],
      "metadata": {
        "id": "S4KehbUdsJ1r"
      }
    },
    {
      "cell_type": "code",
      "source": [
        "from sklearn.linear_model import LinearRegression\n",
        "from sklearn.metrics import mean_squared_error\n",
        "\n",
        "regressor = LinearRegression()\n",
        "\n",
        "X1 = data[['studytime']]\n",
        "y1 = data['G1']\n",
        "regressor.fit(X1, y1)\n",
        "mse1 = mean_squared_error(y1, regressor.predict(X1))\n",
        "\n",
        "X2 = data[['studytime']]\n",
        "y2 = data['G2']\n",
        "regressor.fit(X2, y2)\n",
        "mse2 = mean_squared_error(y2, regressor.predict(X2))\n",
        "\n",
        "if mse1 < mse2:\n",
        "    best_pair = \"Study time and G1\"\n",
        "else:\n",
        "    best_pair = \"Study time and G2\"\n",
        "\n",
        "print(\"The pair that gave the best performance:\", best_pair)\n"
      ],
      "metadata": {
        "colab": {
          "base_uri": "https://localhost:8080/"
        },
        "id": "XiaLfxwcs0lk",
        "outputId": "3ab8b245-4028-41b0-fa33-bfa511feb6d3"
      },
      "execution_count": null,
      "outputs": [
        {
          "output_type": "stream",
          "name": "stdout",
          "text": [
            "The pair that gave the best performance: Study time and G1\n"
          ]
        }
      ]
    },
    {
      "cell_type": "markdown",
      "source": [
        "The code over-imports the \"student-por\" dataset, decides the number of highlights utilizing the shape[1] property, and prints the result. Another, it fits two isolated straight relapse models. The primary demonstrates that employments think about time as the free variable (X1) and G1 as the subordinate variable (y1). The moment demonstrates employments consider time as the free variable (X2) and G2 as the subordinate variable (y2). The cruel squared blunders (MSE) are calculated using the mean_squared_error() work, and after that, compared to recognize the combine (ponder time and G1 or think about time and G2) that gave the most excellent performance based on the MSE. Running this code will display the number of highlights within the dataset and give the combination that gave the most excellent execution between considering time and G1 or thinking about time and G2 based on the MSE."
      ],
      "metadata": {
        "id": "DQIZUrJO5pwH"
      }
    },
    {
      "cell_type": "markdown",
      "source": [
        "**Q10: Is there a linear relationship between**\n",
        "\n",
        "1.**Absences and G1**\n",
        "\n",
        "2.**Absences and G2**\n",
        "\n",
        "**We can find this by fitting a simple linear regression model**"
      ],
      "metadata": {
        "id": "YMzYw5cvs1Gm"
      }
    },
    {
      "cell_type": "code",
      "source": [
        "from sklearn.linear_model import LinearRegression\n",
        "import numpy as np\n",
        "\n",
        "regressor = LinearRegression()\n",
        "\n",
        "X1 = data[['absences']]\n",
        "y1 = data['G1']\n",
        "regressor.fit(X1, y1)\n",
        "slope1 = regressor.coef_[0]\n",
        "intercept1 = regressor.intercept_\n",
        "\n",
        "X2 = data[['absences']]\n",
        "y2 = data['G2']\n",
        "regressor.fit(X2, y2)\n",
        "slope2 = regressor.coef_[0]\n",
        "intercept2 = regressor.intercept_\n",
        "\n",
        "if np.abs(slope1) > 0:\n",
        "    relationship1 = \"There is a linear relationship between Absences and G1.\"\n",
        "else:\n",
        "    relationship1 = \"There is no linear relationship between Absences and G1.\"\n",
        "\n",
        "if np.abs(slope2) > 0:\n",
        "    relationship2 = \"There is a linear relationship between Absences and G2.\"\n",
        "else:\n",
        "    relationship2 = \"There is no linear relationship between Absences and G2.\"\n",
        "\n",
        "print(\"For Absences and G1:\", relationship1)\n",
        "print(\"For Absences and G2:\", relationship2)\n"
      ],
      "metadata": {
        "colab": {
          "base_uri": "https://localhost:8080/"
        },
        "id": "iyl7_dictECt",
        "outputId": "89595219-3e97-4016-e66e-96c3b8678c2f"
      },
      "execution_count": null,
      "outputs": [
        {
          "output_type": "stream",
          "name": "stdout",
          "text": [
            "For Absences and G1: There is a linear relationship between Absences and G1.\n",
            "For Absences and G2: There is a linear relationship between Absences and G2.\n"
          ]
        }
      ]
    },
    {
      "cell_type": "markdown",
      "source": [
        "The code fits partitioned straight relapse models for Unlucky deficiencies and G1 and Nonattendances and G2. At that point, it checks the outright esteem of the relapse line's slant to decide if there is a direct relationship. If the slant is distinctive from zero, it proposes a direct relationship between the factors. Note that the translation of a direct relationship expects certain suspicions of straight relapse to be met, such as linearity, freedom, and steady fluctuation of residuals. It is, moreover, fundamental to consider different assessment measurements and conduct an assist investigation to approve the discoveries."
      ],
      "metadata": {
        "id": "XulOQ8eW7BD9"
      }
    }
  ]
}